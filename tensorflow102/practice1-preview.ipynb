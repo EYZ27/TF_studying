{
  "cells": [
    {
      "cell_type": "markdown",
      "metadata": {
        "id": "qA-GWlC08qt9"
      },
      "source": [
        "# 샘플 이미지셋 실습\n",
        " - MNIST: 손글씨 이미지셋 (60000, 28, 28)\n",
        " - CIFAR10: 10가지 분류 사물 이미지셋 (50000, 32, 32)\n"
      ]
    },
    {
      "cell_type": "code",
      "execution_count": 1,
      "metadata": {
        "id": "EX5mTykwKFss"
      },
      "outputs": [],
      "source": [
        "import tensorflow as tf"
      ]
    },
    {
      "cell_type": "code",
      "execution_count": 2,
      "metadata": {
        "id": "xCp36n1BKILo"
      },
      "outputs": [
        {
          "name": "stdout",
          "output_type": "stream",
          "text": [
            "Downloading data from https://storage.googleapis.com/tensorflow/tf-keras-datasets/mnist.npz\n",
            "11490434/11490434 [==============================] - 1s 0us/step\n",
            "(60000, 28, 28) (60000,)\n",
            "Downloading data from https://www.cs.toronto.edu/~kriz/cifar-10-python.tar.gz\n",
            "170498071/170498071 [==============================] - 80s 0us/step\n",
            "(50000, 32, 32, 3) (50000, 1)\n"
          ]
        }
      ],
      "source": [
        "(mnist_x, mnist_y), _ = tf.keras.datasets.mnist.load_data()     # 테스트 세트는 사용하지 않기 위해서 언더바(_)로 지정했다.\n",
        "print(mnist_x.shape, mnist_y.shape)\n",
        "\n",
        "(cifar_x, cifar_y), _ = tf.keras.datasets.cifar10.load_data()\n",
        "print(cifar_x.shape, cifar_y.shape)"
      ]
    },
    {
      "cell_type": "markdown",
      "metadata": {
        "id": "PTmUpcYZHF_-"
      },
      "source": [
        "## 1. 화면 출력"
      ]
    },
    {
      "cell_type": "code",
      "execution_count": 3,
      "metadata": {
        "id": "tZQ24col_2DJ"
      },
      "outputs": [
        {
          "name": "stdout",
          "output_type": "stream",
          "text": [
            "[5 0 4 1 9 2 1 3 1 4]\n"
          ]
        },
        {
          "data": {
            "text/plain": [
              "<matplotlib.image.AxesImage at 0x1ecf0c0b7f0>"
            ]
          },
          "execution_count": 3,
          "metadata": {},
          "output_type": "execute_result"
        },
        {
          "data": {
            "image/png": "[encoded data removed]",
            "text/plain": [
              "<Figure size 640x480 with 1 Axes>"
            ]
          },
          "metadata": {},
          "output_type": "display_data"
        }
      ],
      "source": [
        "print(mnist_y[0:10])                    # mnist_y에는 정답값이 들어있다. 10개 데이터의 정답값 확인\n",
        "\n",
        "import matplotlib.pyplot as plt\n",
        "plt.imshow(mnist_x[4], cmap='gray')     # 다섯번째 데이터의 이미지를 확인해보자."
      ]
    },
    {
      "cell_type": "code",
      "execution_count": 8,
      "metadata": {
        "id": "5f6qLFkJARxc"
      },
      "outputs": [
        {
          "name": "stdout",
          "output_type": "stream",
          "text": [
            "[[6]\n",
            " [9]\n",
            " [9]\n",
            " [4]\n",
            " [1]\n",
            " [1]\n",
            " [2]\n",
            " [7]\n",
            " [8]\n",
            " [3]]\n"
          ]
        },
        {
          "data": {
            "text/plain": [
              "<matplotlib.image.AxesImage at 0x1ecf0cdb8b0>"
            ]
          },
          "execution_count": 8,
          "metadata": {},
          "output_type": "execute_result"
        },
        {
          "data": {
            "image/png": "[encoded data removed]",
            "text/plain": [
              "<Figure size 640x480 with 1 Axes>"
            ]
          },
          "metadata": {},
          "output_type": "display_data"
        }
      ],
      "source": [
        "print(cifar_y[0:10])                    # cifar 데이터 또한 정답값 10개와 첫번째 사진 확인\n",
        "\n",
        "import matplotlib.pyplot as plt\n",
        "plt.imshow(cifar_x[4])"
      ]
    },
    {
      "cell_type": "markdown",
      "metadata": {
        "id": "M9bRNqL7GDw2"
      },
      "source": [
        "## 2. 차원 확인"
      ]
    },
    {
      "cell_type": "code",
      "execution_count": 5,
      "metadata": {
        "id": "NMYYX0nNArrM"
      },
      "outputs": [
        {
          "name": "stdout",
          "output_type": "stream",
          "text": [
            "(5,)\n",
            "(4, 5)\n",
            "(3, 4, 5)\n",
            "(2, 3, 4, 5)\n"
          ]
        }
      ],
      "source": [
        "# 차원 확인 예제 1\n",
        "\n",
        "# import numpy as np\n",
        "\n",
        "# d1 = np.array([1, 2, 3, 4, 5])\n",
        "# print(d1.shape)\n",
        "\n",
        "# d2 = np.array([d1, d1, d1, d1])\n",
        "# print(d2.shape)\n",
        "\n",
        "# d3 = np.array([d2, d2, d2])\n",
        "# print(d3.shape)\n",
        "\n",
        "# d4 = np.array([d3, d3])\n",
        "# print(d4.shape)"
      ]
    },
    {
      "cell_type": "code",
      "execution_count": 6,
      "metadata": {
        "id": "pToRg91wA7Tx"
      },
      "outputs": [
        {
          "name": "stdout",
          "output_type": "stream",
          "text": [
            "(60000,)\n",
            "(50000, 1)\n"
          ]
        }
      ],
      "source": [
        "import numpy as np\n",
        "\n",
        "# numpy의 shape 매서드로 차원을 확인할 수 있다.\n",
        "print(mnist_y.shape)    # 1차원: 60000개 요소를 가진 array. 대괄호 하나.\n",
        "print(cifar_y.shape)    # 2차원: 50000개 요소를 가진 array 1개가 포함되어 있는 array. 이중 대괄호안에 들어있다."
      ]
    },
    {
      "cell_type": "code",
      "execution_count": 7,
      "metadata": {
        "id": "aIPxtzlfBQau"
      },
      "outputs": [
        {
          "name": "stdout",
          "output_type": "stream",
          "text": [
            "(5,)\n",
            "[5 0 4 1 9]\n",
            "(5,)\n",
            "(1, 5)\n",
            "(5, 1)\n",
            "[[6]\n",
            " [9]\n",
            " [9]\n",
            " [4]\n",
            " [1]]\n",
            "(5, 1)\n"
          ]
        }
      ],
      "source": [
        "# 차원 확인 예제 2\n",
        "\n",
        "# x1 = np.array([1, 2, 3, 4, 5])\n",
        "# print(x1.shape)\n",
        "# print(mnist_y[0:5])\n",
        "# print(mnist_y[0:5].shape)\n",
        "\n",
        "# x2 = np.array([[1, 2, 3, 4, 5]])\n",
        "# print(x2.shape)\n",
        "\n",
        "# x3 = np.array([[1], [2], [3], [4], [5]])\n",
        "# print(x3.shape)\n",
        "# print(cifar_y[0:5])\n",
        "# print(cifar_y[0:5].shape)"
      ]
    },
    {
      "cell_type": "code",
      "execution_count": null,
      "metadata": {
        "id": "eLvH8-oxBT3H"
      },
      "outputs": [],
      "source": []
    }
  ],
  "metadata": {
    "colab": {
      "collapsed_sections": [],
      "name": "1. imageset preview.ipynb",
      "provenance": []
    },
    "kernelspec": {
      "display_name": "Python 3",
      "name": "python3"
    },
    "language_info": {
      "codemirror_mode": {
        "name": "ipython",
        "version": 3
      },
      "file_extension": ".py",
      "mimetype": "text/x-python",
      "name": "python",
      "nbconvert_exporter": "python",
      "pygments_lexer": "ipython3",
      "version": "3.9.13"
    }
  },
  "nbformat": 4,
  "nbformat_minor": 0
}
